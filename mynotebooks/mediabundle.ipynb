{
  "cells": [
    {
      "cell_type": "code",
      "source": [
        "import time\r\n",
        "def test(): \r\n",
        "     start = time.time() \r\n",
        "     for i in range(20): \r\n",
        "         time.sleep(1) \r\n",
        "         print(f'{time.time() - start}')"
      ],
      "outputs": [
        {
          "output_type": "display_data",
          "data": {
            "application/vnd.livy.statement-meta+json": {
              "spark_pool": "vikarantmedium2",
              "session_id": 52,
              "statement_id": 7,
              "state": "finished",
              "livy_statement_state": "available",
              "queued_time": "2020-12-09T23:55:43.3429921Z",
              "execution_start_time": "2020-12-09T23:55:43.3754695Z",
              "execution_finish_time": "2020-12-09T23:55:45.4190017Z"
            },
            "text/plain": "StatementMeta(vikarantmedium2, 52, 7, Finished, Available)"
          },
          "metadata": {}
        },
        {
          "output_type": "execute_result",
          "execution_count": 5,
          "data": {
            "text/plain": ""
          },
          "metadata": {}
        }
      ],
      "execution_count": 5,
      "metadata": {
        "gather": {
          "logged": 1607558145483
        }
      }
    },
    {
      "cell_type": "code",
      "source": [
        "\r\n",
        "\r\n"
      ],
      "outputs": [],
      "execution_count": null,
      "metadata": {
        "collapsed": true,
        "jupyter": {
          "source_hidden": false,
          "outputs_hidden": false
        },
        "nteract": {
          "transient": {
            "deleting": false
          }
        }
      }
    },
    {
      "cell_type": "code",
      "source": [
        "print(123)"
      ],
      "outputs": [
        {
          "output_type": "display_data",
          "data": {
            "application/vnd.livy.statement-meta+json": {
              "spark_pool": "vikarantmedium2",
              "session_id": 52,
              "statement_id": 9,
              "state": "finished",
              "livy_statement_state": "available",
              "queued_time": "2020-12-09T23:57:00.2950204Z",
              "execution_start_time": "2020-12-09T23:57:00.3214272Z",
              "execution_finish_time": "2020-12-09T23:57:02.3561599Z"
            },
            "text/plain": "StatementMeta(vikarantmedium2, 52, 9, Finished, Available)"
          },
          "metadata": {}
        },
        {
          "output_type": "execute_result",
          "execution_count": 7,
          "data": {
            "text/plain": "123"
          },
          "metadata": {}
        }
      ],
      "execution_count": 7,
      "metadata": {
        "collapsed": true,
        "jupyter": {
          "source_hidden": false,
          "outputs_hidden": false
        },
        "nteract": {
          "transient": {
            "deleting": false
          }
        },
        "gather": {
          "logged": 1607558222385
        }
      }
    },
    {
      "cell_type": "code",
      "source": [
        "from azureml.core import Workspace, Experiment, Dataset,Datastore, Environment\r\n",
        "ws = Workspace.get(name='ws_eastus2', subscription_id='1aefdc5e-3a7c-4d71-a9f9-f5d3b03be19a', resource_group='rg_eastus2') #update to current workspace details\r\n",
        "ds = Dataset.get(ws, \"obs\") #update datset name"
      ],
      "outputs": [
        {
          "output_type": "display_data",
          "data": {
            "application/vnd.livy.statement-meta+json": {
              "spark_pool": "vikarantmedium2",
              "session_id": 52,
              "statement_id": 8,
              "state": "finished",
              "livy_statement_state": "available",
              "queued_time": "2020-12-09T23:55:50.1524887Z",
              "execution_start_time": "2020-12-09T23:55:50.1823331Z",
              "execution_finish_time": "2020-12-09T23:56:22.7674737Z"
            },
            "text/plain": "StatementMeta(vikarantmedium2, 52, 8, Finished, Available)"
          },
          "metadata": {}
        },
        {
          "output_type": "execute_result",
          "execution_count": 6,
          "data": {
            "text/plain": ""
          },
          "metadata": {}
        }
      ],
      "execution_count": 6,
      "metadata": {
        "collapsed": true,
        "jupyter": {
          "source_hidden": false,
          "outputs_hidden": false
        },
        "nteract": {
          "transient": {
            "deleting": false
          }
        },
        "gather": {
          "logged": 1607558182859
        }
      }
    },
    {
      "cell_type": "code",
      "source": [
        "import scrapy\r\n",
        "import scra\r\n",
        "fn\r\n"
      ],
      "outputs": [
        {
          "output_type": "display_data",
          "data": {
            "application/vnd.livy.statement-meta+json": {
              "spark_pool": null,
              "session_id": null,
              "statement_id": null,
              "state": "session_starting",
              "livy_statement_state": null,
              "queued_time": "2020-11-17T20:04:01.0085966Z",
              "execution_start_time": null,
              "execution_finish_time": null
            },
            "text/plain": "StatementMeta(, , , SessionStarting, )"
          },
          "metadata": {}
        }
      ],
      "execution_count": 1,
      "metadata": {
        "collapsed": true,
        "jupyter": {
          "source_hidden": false,
          "outputs_hidden": false
        },
        "nteract": {
          "transient": {
            "deleting": false
          }
        },
        "gather": {
          "logged": 1605643445682
        }
      }
    },
    {
      "cell_type": "code",
      "source": [
        "first_name = 'Ahmed'\r\n",
        "print(last_name)\r\n"
      ],
      "outputs": [
        {
          "output_type": "display_data",
          "data": {
            "application/vnd.livy.statement-meta+json": {
              "spark_pool": "vikarantmedium",
              "session_id": 8,
              "statement_id": 4,
              "state": "finished",
              "livy_statement_state": "available",
              "queued_time": "2020-11-17T20:12:34.940067Z",
              "execution_start_time": "2020-11-17T20:12:35.4067836Z",
              "execution_finish_time": "2020-11-17T20:12:37.6566568Z"
            },
            "text/plain": "StatementMeta(vikarantmedium, 8, 4, Finished, Available)"
          },
          "metadata": {}
        },
        {
          "output_type": "error",
          "ename": "NameError",
          "evalue": "name 'last_name' is not defined",
          "traceback": [
            "NameError: name 'last_name' is not defined",
            "Traceback (most recent call last):\n",
            "NameError: name 'last_name' is not defined\n"
          ]
        }
      ],
      "execution_count": 2,
      "metadata": {
        "collapsed": true,
        "jupyter": {
          "source_hidden": false,
          "outputs_hidden": false
        },
        "nteract": {
          "transient": {
            "deleting": false
          }
        }
      }
    },
    {
      "cell_type": "code",
      "source": [
        "%%writefile --local test.tsv\r\n",
        "hello world :):):)\r\n",
        "test\r\n",
        "test"
      ],
      "outputs": [
        {
          "output_type": "display_data",
          "data": {
            "application/vnd.livy.statement-meta+json": {
              "spark_pool": "vikarantmedium",
              "session_id": 8,
              "statement_id": 5,
              "state": "finished",
              "livy_statement_state": "available",
              "queued_time": "2020-11-17T20:12:50.145977Z",
              "execution_start_time": "2020-11-17T20:12:52.5586599Z",
              "execution_finish_time": "2020-11-17T20:12:55.5903863Z"
            },
            "text/plain": "StatementMeta(vikarantmedium, 8, 5, Finished, Available)"
          },
          "metadata": {}
        },
        {
          "output_type": "execute_result",
          "execution_count": 3,
          "data": {
            "text/plain": "Writing test.tsv\n"
          },
          "metadata": {}
        }
      ],
      "execution_count": 3,
      "metadata": {
        "collapsed": true,
        "jupyter": {
          "source_hidden": false,
          "outputs_hidden": false
        },
        "nteract": {
          "transient": {
            "deleting": false
          }
        },
        "microsoft": {
          "language": "plaintext"
        }
      }
    },
    {
      "cell_type": "code",
      "source": [],
      "outputs": [],
      "execution_count": null,
      "metadata": {
        "collapsed": true,
        "jupyter": {
          "source_hidden": false,
          "outputs_hidden": false
        },
        "nteract": {
          "transient": {
            "deleting": false
          }
        }
      }
    }
  ],
  "metadata": {
    "kernelspec": {
      "name": "synapse_pyspark",
      "language": "Python",
      "display_name": "Synapse PySpark"
    },
    "language_info": {
      "name": "scala",
      "version": "2.11.12",
      "mimetype": "text/x-scala",
      "file_extension": ".scala",
      "pygments_lexer": "scala",
      "codemirror_mode": "scala",
      "nbconvert_exporter": "scala"
    },
    "kernel_info": {
      "name": "synapse_pyspark"
    },
    "nteract": {
      "version": "nteract-front-end@1.0.0"
    },
    "microsoft": {
      "language": "python"
    }
  },
  "nbformat": 4,
  "nbformat_minor": 2
}