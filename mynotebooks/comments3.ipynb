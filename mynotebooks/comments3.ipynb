{
  "cells": [
    {
      "cell_type": "markdown",
      "source": [
        "# Hello World"
      ],
      "metadata": {}
    },
    {
      "cell_type": "code",
      "source": [
        "def customfunc(a, b):\n",
        "    ''' my custom function '''\n",
        "    print(a)\n",
        "    print(b)\n",
        "\n",
        "customfunc(1, 2)\n",
        "message = \"hello\""
      ],
      "outputs": [],
      "execution_count": 1,
      "metadata": {
        "comments": [
          {
            "target": "source",
            "threadId": "dbe58875-985c-4320-8303-af4a8c6c6e7f",
            "text": "I will be demoing a new feature very soon.",
            "selectionRange": {
              "start": {
                "line": 1,
                "column": 1
              },
              "end": {
                "line": 1,
                "column": 4
              }
            },
            "status": "active",
            "user": "a",
            "createdDateUTC": 1611810314986,
            "modifiedDateUTC": 1614021796481,
            "replies": [
              {
                "replyId": "e27f9fb2-02c2-42f3-865d-a0f5eac3b870",
                "text": "I am super excited and looking forward to seeing it for the first time! When is this going to happen?",
                "user": "b",
                "createdDateUTC": 1612023609111,
                "modifiedDateUTC": 1614021807841
              },
              {
                "replyId": "3eb0eb26-156e-4ea2-958d-f0c03175c924",
                "text": "It's going to be on Monday.",
                "user": "a",
                "createdDateUTC": 1612923609365,
                "modifiedDateUTC": 1614021983968
              },
              {
                "replyId": "1a44a1da-ee2f-487b-a457-f0864c1437a5",
                "text": "What time will this happen?",
                "user": "d",
                "createdDateUTC": 1614022438894,
                "modifiedDateUTC": 1614022514576
              }
            ]
          }
        ]
      }
    },
    {
      "cell_type": "code",
      "source": [
        "mylist = [4, 5, 6]\n",
        "for x in mylist:\n",
        "    print(x)"
      ],
      "outputs": [],
      "execution_count": 2,
      "metadata": {
        "comments": [
          {
            "target": "source",
            "threadId": "fc17061b-57e5-49f8-bafc-c5dcc1347635",
            "text": "Reminder to myself to respond to a comment thread and create a new comment thread.",
            "selectionRange": {
              "start": {
                "line": 2,
                "column": 1
              },
              "end": {
                "line": 2,
                "column": 4
              }
            },
            "status": "resolved",
            "user": "a",
            "createdDateUTC": 1612924769347,
            "modifiedDateUTC": 1614022361337,
            "replies": [
              {
                "replyId": "e27f9fb2-02c2-42f3-865d-a0f5eac3b870",
                "text": "Remember also to show the comment operations available to different users.",
                "user": "b",
                "createdDateUTC": 1612924800964,
                "modifiedDateUTC": 1614022152159
              },
              {
                "replyId": "3bd7b11a-7f3b-4dee-8ff9-40c4c8bdce67",
                "text": "And try reactivating this comment thread.",
                "user": "c",
                "createdDateUTC": 1614022207390,
                "modifiedDateUTC": 1614022207390
              }
            ]
          }
        ]
      }
    },
    {
      "cell_type": "markdown",
      "source": [
        "# Markdown for the win!"
      ],
      "metadata": {}
    },
    {
      "cell_type": "code",
      "source": [
        "max_count = 10\n",
        "index = 0\n",
        "sum_number = 0\n",
        "while (index < max_count):\n",
        "    sum_number = sum_number + index\n",
        "    index = index + 1"
      ],
      "outputs": [],
      "execution_count": 3,
      "metadata": {
        "comments": [
          {
            "target": "source",
            "threadId": "f9c3060f-29f4-4ecf-9a02-2948fd1f2705",
            "text": "I love it when you make cells dance. Can you show that off again? I'll buy you a bag of cookies next week.",
            "selectionRange": {
              "start": {
                "line": 3,
                "column": 3
              },
              "end": {
                "line": 4,
                "column": 3
              }
            },
            "status": "active",
            "user": "c",
            "createdDateUTC": 1612925095125,
            "modifiedDateUTC": 1614021864830,
            "replies": []
          }
        ]
      }
    }
  ],
  "metadata": {
    "kernelspec": {
      "display_name": "Python 3",
      "language": "python",
      "name": "python3"
    },
    "language_info": {
      "codemirror_mode": {
        "name": "ipython",
        "version": 3
      },
      "file_extension": ".py",
      "mimetype": "text/x-python",
      "name": "python",
      "nbconvert_exporter": "python",
      "pygments_lexer": "ipython3",
      "version": "3.7.4-final"
    }
  },
  "nbformat": 4,
  "nbformat_minor": 2
}