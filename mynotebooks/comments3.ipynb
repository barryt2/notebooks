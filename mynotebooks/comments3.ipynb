{
  "cells": [
    {
      "cell_type": "markdown",
      "source": [
        "# Hello World"
      ],
      "metadata": {}
    },
    {
      "cell_type": "code",
      "source": [
        "def customfunc(a, b):\n",
        "    ''' my custom function '''\n",
        "    print(a)\n",
        "    print(b)\n",
        "\n",
        "customfunc(1, 2)\n",
        "message = \"hello\""
      ],
      "outputs": [
        {
          "output_type": "stream",
          "name": "stdout",
          "text": [
            "1\n",
            "2\n"
          ]
        }
      ],
      "execution_count": 1,
      "metadata": {
        "ms_comments": [
          {
            "threadId": "4a8ca4d8-0e70-431d-9aaa-da3ec1b153f7",
            "text": "a",
            "status": "active",
            "user": {
              "name": "Jane Doe",
              "idType": "aad"
            },
            "createdDateUTC": 1617762669321,
            "modifiedDateUTC": 1617762669321,
            "replies": []
          },
          {
            "threadId": "6543aca6-264d-4944-b16c-2b66c1acb214",
            "text": "b",
            "status": "resolved",
            "user": {
              "name": "John Doe",
              "idType": "aad"
            },
            "createdDateUTC": 1617762682237,
            "modifiedDateUTC": 1618772105205,
            "replies": []
          }
        ],
        "ms_comment_ranges": {
          "4a8ca4d8-0e70-431d-9aaa-da3ec1b153f7": {
            "text": "print",
            "start": {
              "line": 3,
              "column": 5
            },
            "end": {
              "line": 3,
              "column": 10
            }
          },
          "6543aca6-264d-4944-b16c-2b66c1acb214": {
            "text": "int(b)\n\ncustomf",
            "start": {
              "line": 4,
              "column": 7
            },
            "end": {
              "line": 6,
              "column": 8
            }
          }
        }
      }
    },
    {
      "cell_type": "code",
      "source": [
        "mylist = [4, 5, 6]\n",
        "for x in mylist:\n",
        "    print(x)"
      ],
      "outputs": [
        {
          "output_type": "stream",
          "name": "stdout",
          "text": [
            "4\n",
            "5\n",
            "6\n"
          ]
        }
      ],
      "execution_count": 2,
      "metadata": {
        "ms_comments": [
          {
            "threadId": "04895bdd-d22b-43d5-a87b-8392af99aa8d",
            "text": "c",
            "status": "active",
            "user": {
              "name": "Jane Doe",
              "idType": "aad"
            },
            "createdDateUTC": 1617762687817,
            "modifiedDateUTC": 1617762687817,
            "replies": [
              {
                "replyId": "850c4d1f-d495-4f69-bac6-5882063b819d",
                "text": "g",
                "user": {
                  "name": "John Doe",
                  "idType": "aad"
                },
                "createdDateUTC": 1618772081423,
                "modifiedDateUTC": 1618772081423
              },
              {
                "replyId": "dd0a5626-4ba9-46d7-87c4-05ca0abe7c60",
                "text": "h",
                "user": {
                  "name": "Jane Doe",
                  "idType": "aad"
                },
                "createdDateUTC": 1618772086683,
                "modifiedDateUTC": 1618772086683
              }
            ]
          }
        ],
        "ms_comment_ranges": {
          "04895bdd-d22b-43d5-a87b-8392af99aa8d": {
            "text": "mylist",
            "start": {
              "line": 2,
              "column": 10
            },
            "end": {
              "line": 2,
              "column": 16
            }
          }
        }
      }
    },
    {
      "cell_type": "markdown",
      "source": [
        "# Markdown for the win!"
      ],
      "metadata": {}
    },
    {
      "cell_type": "code",
      "source": [
        "max_count = 10\n",
        "index = 0\n",
        "sum_number = 0\n",
        "while (index < max_count):\n",
        "    sum_number = sum_number + index\n",
        "    index = index + 1"
      ],
      "outputs": [],
      "execution_count": 3,
      "metadata": {
        "ms_comments": [
          {
            "threadId": "b3c9b91a-5f8b-4475-a0d7-6589198a3685",
            "text": "e",
            "status": "resolved",
            "user": {
              "name": "Jane Doe",
              "idType": "aad"
            },
            "createdDateUTC": 1618772064046,
            "modifiedDateUTC": 1618772140035,
            "replies": [
              {
                "replyId": "aab70d4c-48a7-4987-be83-b1b00815709f",
                "text": "f",
                "user": {
                  "name": "Jane Doe",
                  "idType": "aad"
                },
                "createdDateUTC": 1618772068577,
                "modifiedDateUTC": 1618772068577
              },
              {
                "replyId": "425aced8-b5b7-480c-ae97-b524819c44ae",
                "text": "i",
                "user": {
                  "name": "John Doe",
                  "idType": "aad"
                },
                "createdDateUTC": 1618772136638,
                "modifiedDateUTC": 1618772136638
              }
            ]
          },
          {
            "threadId": "edf13d86-1a54-4168-8f22-4526798ef050",
            "text": "d",
            "status": "active",
            "user": {
              "name": "Jane Doe",
              "idType": "aad"
            },
            "createdDateUTC": 1617762699561,
            "modifiedDateUTC": 1617762699561,
            "replies": [
              {
                "replyId": "2e78fd1b-a182-4d52-9938-688ecebab6d2",
                "text": "j",
                "user": {
                  "name": "Jane Doe",
                  "idType": "aad"
                },
                "createdDateUTC": 1618772148861,
                "modifiedDateUTC": 1618772148861
              }
            ]
          }
        ],
        "ms_comment_ranges": {
          "edf13d86-1a54-4168-8f22-4526798ef050": {
            "text": "sum_number + index",
            "start": {
              "line": 5,
              "column": 18
            },
            "end": {
              "line": 5,
              "column": 36
            }
          },
          "b3c9b91a-5f8b-4475-a0d7-6589198a3685": {
            "text": "index",
            "start": {
              "line": 2,
              "column": 1
            },
            "end": {
              "line": 2,
              "column": 6
            }
          }
        }
      }
    }
  ],
  "metadata": {
    "kernelspec": {
      "display_name": "Python 3",
      "language": "python",
      "name": "python3"
    },
    "language_info": {
      "codemirror_mode": {
        "name": "ipython",
        "version": 3
      },
      "file_extension": ".py",
      "mimetype": "text/x-python",
      "name": "python",
      "nbconvert_exporter": "python",
      "pygments_lexer": "ipython3",
      "version": "3.7.4-final"
    }
  },
  "nbformat": 4,
  "nbformat_minor": 2
}