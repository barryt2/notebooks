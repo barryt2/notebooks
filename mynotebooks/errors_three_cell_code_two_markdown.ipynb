{
 "cells": [
  {
   "cell_type": "markdown",
   "execution_count": null,
   "metadata": {},
   "outputs": [],
   "source": [
    "# Hello World"
   ]
  },
  {
   "cell_type": "code",
   "execution_count": 1,
   "metadata": {},
   "outputs": [
    {
     "name": "stdout",
     "output_type": "stream",
     "text": "1\n2\n"
    }
   ],
   "source": [
    "def customfunc(a, b):\n",
    "    ''' my custom function '''\n",
    "    print(a)\n",
    "    print(b)\n",
    "\n",
	"prin(123)\n",
    "customfunc(1, 2)\n",
    "message = \"hello\""
   ]
  },
  {
   "cell_type": "code",
   "execution_count": 2,
   "metadata": {},
   "outputs": [
    {
     "name": "stdout",
     "output_type": "stream",
     "text": "4\n5\n6\n"
    }
   ],
   "source": [
    "test\n",
    "mylist = [4, 5, 6]\n",
    "for x in mylist:\n",
    "    print(x)\n",
	"myli.append(7)"
   ]
  },
  {
   "cell_type": "markdown",
   "execution_count": null,
   "metadata": {},
   "outputs": [],
   "source": [
    "# Markdown for the win!"
   ]
  },
  {
   "cell_type": "code",
   "execution_count": 3,
   "metadata": {},
   "outputs": [],
   "source": [
    "max_count = 10\n",
    "index = 0\n",
    "sum_number = 0\n",
	"message2.lower()\n",
    "while (index < max_count):\n",
    "    sum_number = sum_number + index\n",
    "    index = index + 1"
   ]
  },
  {
   "cell_type": "code",
   "execution_count": 3,
   "metadata": { "aznb": { "language": "csharp" } },
   "outputs": [],
   "source": [
    "var1 = 123;"
   ]
  },
  {
   "cell_type": "code",
   "execution_count": 3,
   "metadata": { "aznb": { "language": "csharp" } },
   "outputs": [],
   "source": [
    "!pip list\n",
    "print(var2)"
   ]
  }
 ],
 "metadata": {
  "kernelspec": {
   "display_name": "Python 3",
   "language": "python",
   "name": "python3"
  },
  "language_info": {
   "codemirror_mode": {
    "name": "ipython",
    "version": 3
   },
   "file_extension": ".py",
   "mimetype": "text/x-python",
   "name": "python",
   "nbconvert_exporter": "python",
   "pygments_lexer": "ipython3",
   "version": "3.7.4-final"
  }
 },
 "nbformat": 4,
 "nbformat_minor": 2
}