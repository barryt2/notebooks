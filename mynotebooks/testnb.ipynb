{
 "cells": [
  {
   "cell_type": "markdown",
   "metadata": {
    "nteract": {
     "transient": {
      "deleting": false
     }
    }
   },
   "source": [
    "# Notebook Basic E2E Test Scenarios"
   ]
  },
  {
   "cell_type": "markdown",
   "metadata": {
    "nteract": {
     "transient": {
      "deleting": false
     }
    }
   },
   "source": [
    "### Run a cell  \n",
    "\n",
    "Expected: Kernel is launched and cell is executed. \n",
    "\n",
    "Expected: Hovering over print shows intellisense "
   ]
  },
  {
   "cell_type": "code",
   "execution_count": null,
   "metadata": {},
   "outputs": [],
   "source": [
    "1+1"
   ]
  },
  {
   "cell_type": "code",
   "execution_count": null,
   "metadata": {},
   "outputs": [],
   "source": [
    "print(\"Hello world!! Hover over print function to check intellisense.\")"
   ]
  },
  {
   "cell_type": "markdown",
   "metadata": {},
   "source": [
    "### Running an infinite loop and verify notebook behavior\n",
    "\n",
    "\n",
    "#### 1. Scroll notebook\n",
    "\n",
    "Expected: No choppiness experienced while scrolling when cell is running\n",
    "\n",
    "#### 2. Type in another cell\n",
    "\n",
    "Expected: No choppiness experienced during typing while cell is running\n",
    "\n",
    "#### 3. Interrupt the cell execution\n",
    "\n",
    "Expected: cell is interrupted and kernel becomes Idle"
   ]
  },
  {
   "cell_type": "code",
   "execution_count": null,
   "metadata": {},
   "outputs": [],
   "source": [
    "while True: print(\"hello\")"
   ]
  },
  {
   "cell_type": "markdown",
   "metadata": {},
   "source": [
    "#### Type below while cell above is running"
   ]
  },
  {
   "cell_type": "code",
   "execution_count": null,
   "metadata": {},
   "outputs": [],
   "source": []
  },
  {
   "cell_type": "markdown",
   "metadata": {},
   "source": [
    "### Move a cell throughout the notebook using drag and drop.\n",
    "\n",
    "#### 1. Verify you can move a cell UP the page via drag and drop\n",
    "#### 2. Verify you can move a cell DOWN the page via drag and drop."
   ]
  },
  {
   "cell_type": "code",
   "execution_count": null,
   "metadata": {},
   "outputs": [],
   "source": [
    "print(\"Move this cell around the page using drag and drop\")"
   ]
  },
  {
   "cell_type": "markdown",
   "metadata": {},
   "source": [
    "### Test notebook save\n",
    "\n",
    "#### Modify notebook, save and refresh notebook (requires host to have storage, e.g. dogfooding, AML)\n",
    "\n",
    "Expected: Ensure your changes are there after reload. "
   ]
  },
  {
   "cell_type": "code",
   "execution_count": null,
   "metadata": {},
   "outputs": [],
   "source": [
    "import datetime\n",
    "print(\"This notebook was last modified on: \" + datetime.datetime.now().strftime(\"%Y-%m-%d %H:%M:%S\"))"
   ]
  },
  {
   "cell_type": "markdown",
   "metadata": {},
   "source": [
    "### Verify notebook save in a notebook opened in multiple tabs (use dogfooding)\n",
    "\n",
    "1. Disable autosave in both tabs for same notebook\n",
    "2. Modify the notebook in first tab and save\n",
    "3. Reload the notebook in second tab that wasn't modified. \n",
    "\n",
    "Expected: Changes made in the first tab should be visible in the second tab after reload/refresh. "
   ]
  },
  {
   "cell_type": "markdown",
   "metadata": {},
   "source": [
    "### Run ipywidgets\n",
    "\n",
    "Expected: Widget is rendered and you can interact with it. \n",
    "\n",
    "For more widgets you can load the notebook here https://github.com/jupyter-widgets/ipywidgets/blob/master/docs/source/examples/Widget%20List.ipynb"
   ]
  },
  {
   "cell_type": "code",
   "execution_count": null,
   "metadata": {},
   "outputs": [],
   "source": [
    "import ipywidgets as widgets\n",
    "widgets.FloatRangeSlider(\n",
    "    value=[5, 7.5],\n",
    "    min=0,\n",
    "    max=10.0,\n",
    "    step=0.1,\n",
    "    description='Test:',\n",
    "    disabled=False,\n",
    "    continuous_update=False,\n",
    "    orientation='horizontal',\n",
    "    readout=True,\n",
    "    readout_format='.1f',\n",
    ")"
   ]
  },
  {
   "cell_type": "code",
   "execution_count": null,
   "metadata": {},
   "outputs": [],
   "source": [
    "widgets.Box(\n",
    "    [\n",
    "        widgets.Label(value='Pizza topping with a very long label:'), \n",
    "        widgets.RadioButtons(\n",
    "            options=[\n",
    "                'pepperoni', \n",
    "                'pineapple', \n",
    "                'anchovies', \n",
    "                'and the long name that will fit fine and the long name that will fit fine and the long name that will fit fine '\n",
    "            ],\n",
    "            layout={'width': 'max-content'}\n",
    "        )\n",
    "    ]\n",
    ")"
   ]
  },
  {
   "cell_type": "code",
   "execution_count": null,
   "metadata": {},
   "outputs": [],
   "source": []
  }
 ],
 "metadata": {
  "kernel_info": {
   "name": "python3"
  },
  "kernelspec": {
   "display_name": "Python 3",
   "language": "python",
   "name": "python3"
  },
  "language_info": {
   "codemirror_mode": {
    "name": "ipython",
    "version": 3
   },
   "file_extension": ".py",
   "mimetype": "text/x-python",
   "name": "python",
   "nbconvert_exporter": "python",
   "pygments_lexer": "ipython3",
   "version": "3.6.5"
  },
  "nteract": {
   "version": "nteract-front-end@1.0.0"
  }
 },
 "nbformat": 4,
 "nbformat_minor": 2
}
