{
  "cells": [
     {
      "cell_type": "code",
      "source": [
        "%%latex\n",
        "\\begin{equation}\n",
        "    \\int_0^\\infty \\frac{x^3}{e^x-1}\\,dx = \\frac{\\pi^4}{15}\n",
        "    \\label{eq:sample} \n",
        "\\end{equation}\n"
      ],
      "outputs": [
        {
          "output_type": "display_data",
          "data": {
            "text/plain": "<IPython.core.display.Latex object>",
            "text/latex": "\\begin{equation}\n    \\int_0^\\infty \\frac{x^3}{e^x-1}\\,dx = \\frac{\\pi^4}{15}\n    \\label{eq:sample} \n\\end{equation}\n"
          },
          "metadata": {}
        }
      ],
      "execution_count": 25,
      "metadata": {}
    },
    {
      "cell_type": "code",
      "source": [
        "%%latex\n",
        "\\begin{equation}\n",
        "    \\int_0^\\infty \\frac{x^3}{e^x-1}\\,dx = \\frac{\\pi^4}{15}\n",
        "    \\label{eq:sample} \n",
        "\\end{equation}\n"
      ],
      "outputs": [
        {
          "output_type": "display_data",
          "data": {
            "text/plain": "<IPython.core.display.Latex object>",
            "text/latex": "\\begin{equation}\n    \\int_0^\\infty \\frac{x^3}{e^x-1}\\,dx = \\frac{\\pi^4}{15}\n    \\label{eq:sample} \n\\end{equation}\n"
          },
          "metadata": {}
        }
      ],
      "execution_count": 24,
      "metadata": {}
    },
    {
      "cell_type": "code",
      "source": [
        "%%latex\n",
        "\\begin{equation}\n",
        "    \\int_0^\\infty \\frac{x^3}{e^x-1}\\,dx = \\frac{\\pi^4}{15}\n",
        "    \\label{eq:sample} \n",
        "\\end{equation}\n"
      ],
      "outputs": [
        {
          "output_type": "display_data",
          "data": {
            "text/plain": "<IPython.core.display.Latex object>",
            "text/latex": "\\begin{equation}\n    \\int_0^\\infty \\frac{x^3}{e^x-1}\\,dx = \\frac{\\pi^4}{15}\n    \\label{eq:sample} \n\\end{equation}\n"
          },
          "metadata": {}
        }
      ],
      "execution_count": 25,
      "metadata": {}
    },
	{
      "cell_type": "code",
      "source": [
        "%%latex\n",
        "\\begin{equation}\n",
        "    \\int_0^\\infty \\frac{x^3}{e^x-1}\\,dx = \\frac{\\pi^4}{15}\n",
        "    \\label{eq:sample} \n",
        "\\end{equation}\n"
      ],
      "outputs": [
        {
          "output_type": "display_data",
          "data": {
            "text/plain": "<IPython.core.display.Latex object>",
            "text/latex": "\\begin{equation}\n    \\int_0^\\infty \\frac{x^3}{e^x-1}\\,dx = \\frac{\\pi^4}{15}\n    \\label{eq:sample} \n\\end{equation}\n"
          },
          "metadata": {}
        }
      ],
      "execution_count": 25,
      "metadata": {}
    },
	{
      "cell_type": "code",
      "source": [
        "%%latex\n",
        "\\begin{equation}\n",
        "    \\int_0^\\infty \\frac{x^3}{e^x-1}\\,dx = \\frac{\\pi^4}{15}\n",
        "    \\label{eq:sample} \n",
        "\\end{equation}\n"
      ],
      "outputs": [
        {
          "output_type": "display_data",
          "data": {
            "text/plain": "<IPython.core.display.Latex object>",
            "text/latex": "\\begin{equation}\n    \\int_0^\\infty \\frac{x^3}{e^x-1}\\,dx = \\frac{\\pi^4}{15}\n    \\label{eq:sample} \n\\end{equation}\n"
          },
          "metadata": {}
        }
      ],
      "execution_count": 24,
      "metadata": {}
    }
  ],
  "metadata": {
    "kernelspec": {
      "name": "python3",
      "language": "python",
      "display_name": "Python 3"
    },
    "language_info": {
      "name": "python",
      "version": "3.8.3",
      "mimetype": "text/x-python",
      "codemirror_mode": {
        "name": "ipython",
        "version": 3
      },
      "pygments_lexer": "ipython3",
      "nbconvert_exporter": "python",
      "file_extension": ".py"
    },
    "kernel_info": {
      "name": "python3"
    },
    "nteract": {
      "version": "nteract-front-end@1.0.0"
    }
  },
  "nbformat": 4,
  "nbformat_minor": 2
}