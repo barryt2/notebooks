{
  "cells": [
    {
      "cell_type": "markdown",
      "source": [
        "# Cell 1"
      ],
      "outputs": [],
      "execution_count": null,
      "metadata": {}
    },
    {
      "cell_type": "markdown",
      "source": [
        "# Cell 2"
      ],
      "outputs": [],
      "execution_count": null,
      "metadata": {}
    },
	{
      "cell_type": "markdown",
      "source": [
        "# Cell 3"
      ],
      "outputs": [],
      "execution_count": null,
      "metadata": {}
    },
	{
      "cell_type": "markdown",
      "source": [
        "# Cell 4"
      ],
      "outputs": [],
      "execution_count": null,
      "metadata": {}
    },
	{
      "cell_type": "markdown",
      "source": [
        "# Cell 5"
      ],
      "outputs": [],
      "execution_count": null,
      "metadata": {}
    },
	{
      "cell_type": "markdown",
      "source": [
        "# Cell 6"
      ],
      "outputs": [],
      "execution_count": null,
      "metadata": {}
    },
	{
      "cell_type": "markdown",
      "source": [
        "# Cell 7"
      ],
      "outputs": [],
      "execution_count": null,
      "metadata": {}
    },
	{
      "cell_type": "markdown",
      "source": [
        "# Cell 8"
      ],
      "outputs": [],
      "execution_count": null,
      "metadata": {}
    },
	{
      "cell_type": "markdown",
      "source": [
        "# Cell 9"
      ],
      "outputs": [],
      "execution_count": null,
      "metadata": {}
    },
	{
      "cell_type": "markdown",
      "source": [
        "# Cell 10"
      ],
      "outputs": [],
      "execution_count": null,
      "metadata": {}
    },
	    {
      "cell_type": "markdown",
      "source": [
        "# Cell 11"
      ],
      "outputs": [],
      "execution_count": null,
      "metadata": {}
    },
    {
      "cell_type": "markdown",
      "source": [
        "# Cell 12"
      ],
      "outputs": [],
      "execution_count": null,
      "metadata": {}
    },
	{
      "cell_type": "markdown",
      "source": [
        "# Cell 13"
      ],
      "outputs": [],
      "execution_count": null,
      "metadata": {}
    },
	{
      "cell_type": "markdown",
      "source": [
        "# Cell 14"
      ],
      "outputs": [],
      "execution_count": null,
      "metadata": {}
    },
	{
      "cell_type": "markdown",
      "source": [
        "# Cell 15"
      ],
      "outputs": [],
      "execution_count": null,
      "metadata": {}
    },
	{
      "cell_type": "markdown",
      "source": [
        "# Cell 16"
      ],
      "outputs": [],
      "execution_count": null,
      "metadata": {}
    },
	{
      "cell_type": "markdown",
      "source": [
        "# Cell 17"
      ],
      "outputs": [],
      "execution_count": null,
      "metadata": {}
    },
	{
      "cell_type": "markdown",
      "source": [
        "# Cell 18"
      ],
      "outputs": [],
      "execution_count": null,
      "metadata": {}
    },
	{
      "cell_type": "markdown",
      "source": [
        "# Cell 19"
      ],
      "outputs": [],
      "execution_count": null,
      "metadata": {}
    },
	{
      "cell_type": "markdown",
      "source": [
        "# Cell 20"
      ],
      "outputs": [],
      "execution_count": null,
      "metadata": {}
    },
	    {
      "cell_type": "markdown",
      "source": [
        "# Cell 21"
      ],
      "outputs": [],
      "execution_count": null,
      "metadata": {}
    },
    {
      "cell_type": "markdown",
      "source": [
        "# Cell 22"
      ],
      "outputs": [],
      "execution_count": null,
      "metadata": {}
    },
	{
      "cell_type": "markdown",
      "source": [
        "# Cell 23"
      ],
      "outputs": [],
      "execution_count": null,
      "metadata": {}
    },
	{
      "cell_type": "markdown",
      "source": [
        "# Cell 24"
      ],
      "outputs": [],
      "execution_count": null,
      "metadata": {}
    },
	{
      "cell_type": "markdown",
      "source": [
        "# Cell 25"
      ],
      "outputs": [],
      "execution_count": null,
      "metadata": {}
    },
	{
      "cell_type": "markdown",
      "source": [
        "# Cell 26"
      ],
      "outputs": [],
      "execution_count": null,
      "metadata": {}
    },
	{
      "cell_type": "markdown",
      "source": [
        "# Cell 27"
      ],
      "outputs": [],
      "execution_count": null,
      "metadata": {}
    },
	{
      "cell_type": "markdown",
      "source": [
        "# Cell 28"
      ],
      "outputs": [],
      "execution_count": null,
      "metadata": {}
    },
	{
      "cell_type": "markdown",
      "source": [
        "# Cell 29"
      ],
      "outputs": [],
      "execution_count": null,
      "metadata": {}
    },
	{
      "cell_type": "markdown",
      "source": [
        "# Cell 30"
      ],
      "outputs": [],
      "execution_count": null,
      "metadata": {}
    }
  ],
  "metadata": {
  "kernelspec": {
   "display_name": "Python 3",
   "language": "python",
   "name": "python3"
  },
  "language_info": {
   "codemirror_mode": {
    "name": "ipython",
    "version": 3
   },
   "file_extension": ".py",
   "mimetype": "text/x-python",
   "name": "python",
   "nbconvert_exporter": "python",
   "pygments_lexer": "ipython3",
   "version": "3.7.4-final"
  }
 },
 "nbformat": 4,
 "nbformat_minor": 2
}