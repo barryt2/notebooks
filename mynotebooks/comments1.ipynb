{
  "cells": [
    {
      "cell_type": "markdown",
      "source": [
        "# Hello World"
      ],
      "metadata": {}
    },
    {
      "cell_type": "code",
      "source": [
        "def customfunc(a, b):\n",
        "    ''' my custom function '''\n",
        "    print(a)\n",
        "    print(b)\n",
        "\n",
        "customfunc(1, 2)\n",
        "message = \"hello\""
      ],
      "outputs": [
        {
          "output_type": "stream",
          "name": "stdout",
          "text": [
            "1\n",
            "2\n"
          ]
        }
      ],
      "execution_count": 1,
      "metadata": {
        "ms_comments": [
          {
            "threadId": "4a8ca4d8-0e70-431d-9aaa-da3ec1b153f7",
            "text": "a",
            "status": "active",
            "user": {
              "name": "Jane Doe",
              "idType": "aad"
            },
            "createdDateUTC": 1617762669321,
            "modifiedDateUTC": 1617762669321,
            "replies": []
          },
          {
            "threadId": "6543aca6-264d-4944-b16c-2b66c1acb214",
            "text": "b",
            "status": "active",
            "user": {
              "name": "Jane Doe",
              "idType": "aad"
            },
            "createdDateUTC": 1617762682237,
            "modifiedDateUTC": 1617762682237,
            "replies": []
          }
        ],
        "ms_comment_ranges": {
          "4a8ca4d8-0e70-431d-9aaa-da3ec1b153f7": {
            "text": "print",
            "start": {
              "line": 3,
              "column": 5
            },
            "end": {
              "line": 3,
              "column": 10
            }
          },
          "6543aca6-264d-4944-b16c-2b66c1acb214": {
            "text": "int(b)\n\ncustomf",
            "start": {
              "line": 4,
              "column": 7
            },
            "end": {
              "line": 6,
              "column": 8
            }
          }
        }
      }
    },
    {
      "cell_type": "code",
      "source": [
        "mylist = [4, 5, 6]\n",
        "for x in mylist:\n",
        "    print(x)"
      ],
      "outputs": [
        {
          "output_type": "stream",
          "name": "stdout",
          "text": [
            "4\n",
            "5\n",
            "6\n"
          ]
        }
      ],
      "execution_count": 2,
      "metadata": {
        "ms_comments": [
          {
            "threadId": "04895bdd-d22b-43d5-a87b-8392af99aa8d",
            "text": "c",
            "status": "active",
            "user": {
              "name": "Jane Doe",
              "idType": "aad"
            },
            "createdDateUTC": 1617762687817,
            "modifiedDateUTC": 1617762687817,
            "replies": []
          }
        ],
        "ms_comment_ranges": {
          "04895bdd-d22b-43d5-a87b-8392af99aa8d": {
            "text": "mylist",
            "start": {
              "line": 2,
              "column": 10
            },
            "end": {
              "line": 2,
              "column": 16
            }
          }
        }
      }
    },
    {
      "cell_type": "markdown",
      "source": [
        "# Markdown for the win!"
      ],
      "metadata": {}
    },
    {
      "cell_type": "code",
      "source": [
        "max_count = 10\n",
        "index = 0\n",
        "sum_number = 0\n",
        "while (index < max_count):\n",
        "    sum_number = sum_number + index\n",
        "    index = index + 1"
      ],
      "outputs": [],
      "execution_count": 3,
      "metadata": {
        "ms_comments": [
          {
            "threadId": "edf13d86-1a54-4168-8f22-4526798ef050",
            "text": "d",
            "status": "active",
            "user": {
              "name": "Jane Doe",
              "idType": "aad"
            },
            "createdDateUTC": 1617762699561,
            "modifiedDateUTC": 1617762699561,
            "replies": []
          }
        ],
        "ms_comment_ranges": {
          "edf13d86-1a54-4168-8f22-4526798ef050": {
            "text": "sum_number + index",
            "start": {
              "line": 5,
              "column": 18
            },
            "end": {
              "line": 5,
              "column": 36
            }
          }
        }
      }
    }
  ],
  "metadata": {
    "kernelspec": {
      "display_name": "Python 3",
      "language": "python",
      "name": "python3"
    },
    "language_info": {
      "codemirror_mode": {
        "name": "ipython",
        "version": 3
      },
      "file_extension": ".py",
      "mimetype": "text/x-python",
      "name": "python",
      "nbconvert_exporter": "python",
      "pygments_lexer": "ipython3",
      "version": "3.7.4-final"
    }
  },
  "nbformat": 4,
  "nbformat_minor": 2
}