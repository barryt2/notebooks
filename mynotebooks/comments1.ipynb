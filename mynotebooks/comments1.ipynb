{
  "cells": [
    {
      "cell_type": "markdown",
      "execution_count": null,
      "metadata": {},
      "outputs": [],
      "source": [
        "# Hello World"
      ]
    },
    {
      "cell_type": "code",
      "execution_count": 1,
      "metadata": {
        "comments": [
          {
            "target": "source",
            "threadId": "dbe58875-985c-4320-8303-af4a8c6c6e7f",
            "text": "my comment thread 1",
            "selectionRange": {
              "start": {
                "line": 1,
                "column": 1
              },
              "end": {
                "line": 1,
                "column": 4
              }
            },
            "status": "active",
            "user": {
              "displayName": "a",
              "id": "a"
            },
            "createdDateUTC": 1611810314986,
            "modifiedDateUTC": 1611810314986,
            "replies": [
              {
                "replyId": "e27f9fb2-02c2-42f3-865d-a0f5eac3b870",
                "text": "my comment thread 1 reply 1",
                "user": {
                  "displayName": "b",
                  "id": "b"
                },
                "createdDateUTC": 1612023609111,
                "modifiedDateUTC": 1612023609111
              },
              {
                "replyId": "3eb0eb26-156e-4ea2-958d-f0c03175c924",
                "text": "my comment thread 1 reply 2",
                "user": {
                  "displayName": "a",
                  "id": "a"
                },
                "createdDateUTC": 1612923609365,
                "modifiedDateUTC": 1612923609365
              }
            ]
          },
          {
            "target": "source",
            "threadId": "45d54f60-6f53-4116-82b1-aa7392e6484d",
            "text": "my comment thread 2",
            "selectionRange": {
              "start": {
                "line": 3,
                "column": 5
              },
              "end": {
                "line": 3,
                "column": 10
              }
            },
            "status": "active",
            "user": {
              "displayName": "b",
              "id": "b"
            },
            "createdDateUTC": 1612923834544,
            "modifiedDateUTC": 1612923834544,
            "replies": []
          }
        ]
      },
      "outputs": [],
      "source": [
        "def customfunc(a, b):\n",
        "    ''' my custom function '''\n",
        "    print(a)\n",
        "    print(b)\n",
        "\n",
        "customfunc(1, 2)\n",
        "message = \"hello\""
      ]
    },
    {
      "cell_type": "code",
      "execution_count": 2,
      "metadata": {
        "comments": [
          {
            "target": "source",
            "threadId": "fc17061b-57e5-49f8-bafc-c5dcc1347635",
            "text": "my comment thread 3",
            "selectionRange": {
              "start": {
                "line": 2,
                "column": 1
              },
              "end": {
                "line": 2,
                "column": 4
              }
            },
            "status": "resolved",
            "user": {
              "displayName": "a",
              "id": "a"
            },
            "createdDateUTC": 1612924769347,
            "modifiedDateUTC": 1612924769347,
            "replies": [
              {
                "replyId": "e27f9fb2-02c2-42f3-865d-a0f5eac3b870",
                "text": "my comment thread 3 reply 1",
                "user": {
                  "displayName": "b",
                  "id": "b"
                },
                "createdDateUTC": 1612924800964,
                "modifiedDateUTC": 1612924800964
              }
            ]
          }
        ]
      },
      "outputs": [],
      "source": [
        "mylist = [4, 5, 6]\n",
        "for x in mylist:\n",
        "    print(x)"
      ]
    },
    {
      "cell_type": "markdown",
      "execution_count": null,
      "metadata": {},
      "outputs": [],
      "source": [
        "# Markdown for the win!"
      ]
    },
    {
      "cell_type": "code",
      "execution_count": 3,
      "metadata": {
        "comments": [
          {
            "target": "source",
            "threadId": "f9c3060f-29f4-4ecf-9a02-2948fd1f2705",
            "text": "my comment thread 4",
            "selectionRange": {
              "start": {
                "line": 3,
                "column": 3
              },
              "end": {
                "line": 4,
                "column": 3
              }
            },
            "status": "active",
            "user": {
              "displayName": "a",
              "id": "a"
            },
            "createdDateUTC": 1612925095125,
            "modifiedDateUTC": 1612925095125,
            "replies": []
          }
        ]
      },
      "outputs": [],
      "source": [
        "max_count = 10\n",
        "index = 0\n",
        "sum_number = 0\n",
        "while (index < max_count):\n",
        "    sum_number = sum_number + index\n",
        "    index = index + 1"
      ]
    }
  ],
  "metadata": {
    "kernelspec": {
      "display_name": "Python 3",
      "language": "python",
      "name": "python3"
    },
    "language_info": {
      "codemirror_mode": {
        "name": "ipython",
        "version": 3
      },
      "file_extension": ".py",
      "mimetype": "text/x-python",
      "name": "python",
      "nbconvert_exporter": "python",
      "pygments_lexer": "ipython3",
      "version": "3.7.4-final"
    }
  },
  "nbformat": 4,
  "nbformat_minor": 2
}