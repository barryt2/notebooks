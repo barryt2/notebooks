{
  "cells": [
    {
      "cell_type": "markdown",
      "source": [
        "# Using Experimental Simulators with Q# and Python"
      ],
      "metadata": {}
    },
    {
      "cell_type": "code",
      "execution_count": null,
      "source": [
        "from azure.quantum import Workspace\r\n",
        "\r\n",
        "workspace = Workspace (\r\n",
        "    subscription_id = \"test\",\r\n",
        "    resource_group = \"test\",\r\n",
        "    name = \"test\",\r\n",
        "    location = \"test\"\r\n",
        ")"
      ],
      "outputs": [],
      "metadata": {
        "collapsed": true,
        "jupyter": {
          "source_hidden": false,
          "outputs_hidden": false
        },
        "nteract": {
          "transient": {
            "deleting": false
          }
        }
      }
    },
    {
      "cell_type": "code",
      "execution_count": 1,
      "source": [
        "import qutip as qt\r\n",
        "import qsharp.experimental\r\n",
        "qsharp.experimental.enable_noisy_simulation()\r\n",
        "\r\n",
        "qsharp.config[\"experimental.simulators.nQubits\"] = 1\r\n",
        "qsharp.config[\"experimental.simulators.stabilizerStateStyle\"] = \"denseGroupPresentation\""
      ],
      "outputs": [
        {
          "output_type": "stream",
          "name": "stdout",
          "text": [
            "Preparing Q# environment...\n",
            "...."
          ]
        }
      ],
      "metadata": {}
    },
    {
      "cell_type": "code",
      "execution_count": 2,
      "source": [
        "%%qsharp\r\n",
		"namespace Script {",
        "    open Microsoft.Quantum.Diagnostics;\r\n",
        "    \r\n",
        "    operation DumpPlus() : Unit {\r\n",
        "        use q = Qubit();\r\n",
        "        H(q);\r\n",
        "        DumpMachine();\r\n",
        "        X(q);\r\n",
        "        Reset(q);\r\n",
		"    }\r\n",
        "}"
      ],
      "outputs": [],
      "metadata": {
        "collapsed": true,
        "jupyter": {
          "source_hidden": false,
          "outputs_hidden": false
        },
        "nteract": {
          "transient": {
            "deleting": false
          }
        }
      }
    },
    {
      "cell_type": "markdown",
      "source": [
        "## Depolarizing Noise"
      ],
      "metadata": {}
    },
    {
      "cell_type": "code",
      "execution_count": 3,
      "source": [
        "noise_model = qsharp.experimental.get_noise_model_by_name('ideal')"
      ],
      "outputs": [],
      "metadata": {}
    },
    {
      "cell_type": "code",
      "execution_count": 4,
      "source": [
        "def depolarizing_noise(p=1.0):\r\n",
        "    return p * qt.to_super(qt.qeye(2)) + ((1 - p) / 4) * sum(map(\r\n",
        "        qt.to_super, [P.as_qobj() for P in qsharp.Pauli]\r\n",
        "    ))"
      ],
      "outputs": [],
      "metadata": {}
    },
    {
      "cell_type": "code",
      "execution_count": 5,
      "source": [
        "noise_model['h'] = depolarizing_noise(0.99) * qt.to_super(qt.qip.operations.hadamard_transform())\r\n",
        "qsharp.experimental.set_noise_model(noise_model)"
      ],
      "outputs": [],
      "metadata": {}
    },
    {
      "cell_type": "code",
      "execution_count": 6,
      "source": [
        "DumpPlus.simulate()"
      ],
      "outputs": [
        {
          "output_type": "display_data",
          "data": {
            "text/plain": [
              "|0⟩\t0.7071067811865476 + 0𝑖\n",
              "|1⟩\t0.7071067811865476 + 0𝑖"
            ],
            "text/html": [
              "\r\n",
              "                    <table style=\"table-layout: fixed; width: 100%\">\r\n",
              "                        <thead>\r\n",
              "                            \r\n",
              "                        <tr>\r\n",
              "                            <th>Qubit IDs</th>\r\n",
              "                            <td span=\"3\">0</td>\r\n",
              "                        </tr>\r\n",
              "                    \r\n",
              "                            <tr>\r\n",
              "                                <th style=\"width: 20ch)\">Basis state (little endian)</th>\r\n",
              "                                <th style=\"width: 20ch\">Amplitude</th><th style=\"width: calc(100% - 26ch - 20ch)\">Meas. Pr.</th><th style=\"width: 6ch\">Phase</th>\r\n",
              "                            </tr>\r\n",
              "                        </thead>\r\n",
              "                        <tbody>\r\n",
              "                        \r\n",
              "                            <tr>\r\n",
              "                                <td>$\\left|0\\right\\rangle$</td>\r\n",
              "                                <td>$0.7071 + 0.0000 i$</td>\r\n",
              "                                \r\n",
              "                                <td>\r\n",
              "                                    <progress\r\n",
              "                                        max=\"100\"\r\n",
              "                                        value=\"50.000000000000014\"\r\n",
              "                                        style=\"width: 100%;\"\r\n",
              "                                    > \r\n",
              "                                    <td>\r\n",
              "                                    <p id=\"round-6a7097f6-fc41-4d38-b2f0-49a743e4fbd0\"> \r\n",
              "                                    <script>\r\n",
              "                                    var num = 50.000000000000014;\r\n",
              "                                    num = num.toFixed(4);\r\n",
              "                                    var num_string = num + \"%\";\r\n",
              "                                     document.getElementById(\"round-6a7097f6-fc41-4d38-b2f0-49a743e4fbd0\").innerHTML = num_string;\r\n",
              "                                    </script> </p>\r\n",
              "                                    </td>\r\n",
              "                                </td>\r\n",
              "                            \r\n",
              "                                \r\n",
              "                                <td style=\"transform: rotate(0deg);\r\n",
              "                   text-align: center;\">\r\n",
              "                                 ↑\r\n",
              "                                </td>\r\n",
              "                            \r\n",
              "                            </tr>\r\n",
              "                        \n",
              "\r\n",
              "                            <tr>\r\n",
              "                                <td>$\\left|1\\right\\rangle$</td>\r\n",
              "                                <td>$0.7071 + 0.0000 i$</td>\r\n",
              "                                \r\n",
              "                                <td>\r\n",
              "                                    <progress\r\n",
              "                                        max=\"100\"\r\n",
              "                                        value=\"50.000000000000014\"\r\n",
              "                                        style=\"width: 100%;\"\r\n",
              "                                    > \r\n",
              "                                    <td>\r\n",
              "                                    <p id=\"round-9a95fd88-6ee0-4378-9f0b-8e441f5ee0dd\"> \r\n",
              "                                    <script>\r\n",
              "                                    var num = 50.000000000000014;\r\n",
              "                                    num = num.toFixed(4);\r\n",
              "                                    var num_string = num + \"%\";\r\n",
              "                                     document.getElementById(\"round-9a95fd88-6ee0-4378-9f0b-8e441f5ee0dd\").innerHTML = num_string;\r\n",
              "                                    </script> </p>\r\n",
              "                                    </td>\r\n",
              "                                </td>\r\n",
              "                            \r\n",
              "                                \r\n",
              "                                <td style=\"transform: rotate(0deg);\r\n",
              "                   text-align: center;\">\r\n",
              "                                 ↑\r\n",
              "                                </td>\r\n",
              "                            \r\n",
              "                            </tr>\r\n",
              "                        \r\n",
              "                        </tbody>\r\n",
              "                    </table>"
            ],
            "application/x-qsharp-data": "{\"div_id\":\"dump-machine-div-30fff4bc-c5f0-4f38-9fc3-08f569c2c9ed\",\"qubit_ids\":[0],\"n_qubits\":1,\"amplitudes\":[{\"Real\":0.7071067811865476,\"Imaginary\":0.0,\"Magnitude\":0.7071067811865476,\"Phase\":0.0},{\"Real\":0.7071067811865476,\"Imaginary\":0.0,\"Magnitude\":0.7071067811865476,\"Phase\":0.0}]}"
          },
          "metadata": {}
        },
        {
          "output_type": "execute_result",
          "data": {
            "text/plain": [
              "()"
            ]
          },
          "metadata": {},
          "execution_count": 6
        }
      ],
      "metadata": {}
    },
    {
      "cell_type": "code",
      "execution_count": 18,
      "source": [
        "DumpPlus.simulate_noise()"
      ],
      "outputs": [
        {
          "output_type": "display_data",
          "data": {
            "text/plain": [
              "Microsoft.Quantum.Experimental.StabilizerState"
            ],
            "text/html": [
              "\r\n",
              "                    <table>\r\n",
              "                        <caption>Stabilizer state</caption>\r\n",
              "                        <tr>\r\n",
              "                            <th># of qubits</th>\r\n",
              "                            <td>2</td>\r\n",
              "                        </tr>\r\n",
              "\r\n",
              "                        <tr>\r\n",
              "                            <th>State data</th>\r\n",
              "                            <td>$$\\left\\langle X𝟙, 𝟙Z \\right\\rangle$$</td>\r\n",
              "                        </tr>\r\n",
              "                    </table>\r\n",
              "                "
            ],
            "application/x-qsharp-data": "{\"Table\":{\"SchemaVersion\":1,\"Dimensions\":[4,5],\"Data\":[false,false,true,false,false,false,true,false,false,false,true,false,false,false,false,false,false,false,true,false],\"AsArray\":[false,false,true,false,false,false,true,false,false,false,true,false,false,false,false,false,false,false,true,false]},\"Data\":[false,false,true,false,false,false,true,false,false,false,true,false,false,false,false,false,false,false,true,false],\"NQubits\":2}"
          },
          "metadata": {}
        },
        {
          "output_type": "execute_result",
          "data": {
            "text/plain": [
              "()"
            ]
          },
          "metadata": {},
          "execution_count": 18
        }
      ],
      "metadata": {}
    },
    {
      "cell_type": "markdown",
      "source": [
        "## Stabilizer Simulation"
      ],
      "metadata": {}
    },
    {
      "cell_type": "code",
      "execution_count": 17,
      "source": [
        "noise_model = qsharp.experimental.get_noise_model_by_name('ideal_stabilizer')\r\n",
        "noise_model['h'] = qsharp.experimental.SequenceProcess(1, \r\n",
        "    [\r\n",
        "        qsharp.experimental.ChpDecompositionProcess(1, [\r\n",
        "            qsharp.experimental.Hadamard(0)\r\n",
        "        ]),\r\n",
        "        qsharp.experimental.MixedPauliProcess(1, [\r\n",
        "            (0.8, 'I'),\r\n",
        "            (0.2, 'Z')\r\n",
        "        ])\r\n",
        "    ]\r\n",
        ")\r\n",
        "qsharp.experimental.set_noise_model(noise_model)\r\n",
        "qsharp.config['experimental.simulators.representation'] = 'stabilizer'\r\n",
        "qsharp.config['experimental.simulators.nQubits'] = 2"
      ],
      "outputs": [],
      "metadata": {}
    },
    {
      "cell_type": "code",
      "execution_count": 16,
      "source": [
        "%%qsharp\r\n",
		"namespace Script {",
        "    operation DumpBellPair() : Unit {\r\n",
        "        use left = Qubit();\r\n",
        "        use right = Qubit();\r\n",
        "        within {\r\n",
        "            H(left);\r\n",
        "            CNOT(left, right);\r\n",
        "        } apply {\r\n",
        "            Microsoft.Quantum.Diagnostics.DumpMachine();\r\n",
        "        }\r\n",
		"    }\r\n",
        "}"
      ],
      "outputs": [],
      "metadata": {}
    },
    {
      "cell_type": "code",
      "execution_count": 15,
      "source": [
        "DumpBellPair.simulate()"
      ],
      "outputs": [
        {
          "output_type": "display_data",
          "data": {
            "text/plain": [
              "|0⟩\t0.7071067811865476 + 0𝑖\n",
              "|1⟩\t0 + 0𝑖\n",
              "|2⟩\t0 + 0𝑖\n",
              "|3⟩\t0.7071067811865476 + 0𝑖"
            ],
            "text/html": [
              "\r\n",
              "                    <table style=\"table-layout: fixed; width: 100%\">\r\n",
              "                        <thead>\r\n",
              "                            \r\n",
              "                        <tr>\r\n",
              "                            <th>Qubit IDs</th>\r\n",
              "                            <td span=\"3\">0, 1</td>\r\n",
              "                        </tr>\r\n",
              "                    \r\n",
              "                            <tr>\r\n",
              "                                <th style=\"width: 20ch)\">Basis state (little endian)</th>\r\n",
              "                                <th style=\"width: 20ch\">Amplitude</th><th style=\"width: calc(100% - 26ch - 20ch)\">Meas. Pr.</th><th style=\"width: 6ch\">Phase</th>\r\n",
              "                            </tr>\r\n",
              "                        </thead>\r\n",
              "                        <tbody>\r\n",
              "                        \r\n",
              "                            <tr>\r\n",
              "                                <td>$\\left|0\\right\\rangle$</td>\r\n",
              "                                <td>$0.7071 + 0.0000 i$</td>\r\n",
              "                                \r\n",
              "                                <td>\r\n",
              "                                    <progress\r\n",
              "                                        max=\"100\"\r\n",
              "                                        value=\"50.000000000000014\"\r\n",
              "                                        style=\"width: 100%;\"\r\n",
              "                                    > \r\n",
              "                                    <td>\r\n",
              "                                    <p id=\"round-49bac658-4b91-4ffb-aa81-e0157369ee33\"> \r\n",
              "                                    <script>\r\n",
              "                                    var num = 50.000000000000014;\r\n",
              "                                    num = num.toFixed(4);\r\n",
              "                                    var num_string = num + \"%\";\r\n",
              "                                     document.getElementById(\"round-49bac658-4b91-4ffb-aa81-e0157369ee33\").innerHTML = num_string;\r\n",
              "                                    </script> </p>\r\n",
              "                                    </td>\r\n",
              "                                </td>\r\n",
              "                            \r\n",
              "                                \r\n",
              "                                <td style=\"transform: rotate(0deg);\r\n",
              "                   text-align: center;\">\r\n",
              "                                 ↑\r\n",
              "                                </td>\r\n",
              "                            \r\n",
              "                            </tr>\r\n",
              "                        \n",
              "\r\n",
              "                            <tr>\r\n",
              "                                <td>$\\left|1\\right\\rangle$</td>\r\n",
              "                                <td>$0.0000 + 0.0000 i$</td>\r\n",
              "                                \r\n",
              "                                <td>\r\n",
              "                                    <progress\r\n",
              "                                        max=\"100\"\r\n",
              "                                        value=\"0\"\r\n",
              "                                        style=\"width: 100%;\"\r\n",
              "                                    > \r\n",
              "                                    <td>\r\n",
              "                                    <p id=\"round-5cc07fa3-988a-42ff-b9a7-0d5546578cf3\"> \r\n",
              "                                    <script>\r\n",
              "                                    var num = 0;\r\n",
              "                                    num = num.toFixed(4);\r\n",
              "                                    var num_string = num + \"%\";\r\n",
              "                                     document.getElementById(\"round-5cc07fa3-988a-42ff-b9a7-0d5546578cf3\").innerHTML = num_string;\r\n",
              "                                    </script> </p>\r\n",
              "                                    </td>\r\n",
              "                                </td>\r\n",
              "                            \r\n",
              "                                \r\n",
              "                                <td style=\"transform: rotate(0deg);\r\n",
              "                   text-align: center;\">\r\n",
              "                                 ↑\r\n",
              "                                </td>\r\n",
              "                            \r\n",
              "                            </tr>\r\n",
              "                        \n",
              "\r\n",
              "                            <tr>\r\n",
              "                                <td>$\\left|2\\right\\rangle$</td>\r\n",
              "                                <td>$0.0000 + 0.0000 i$</td>\r\n",
              "                                \r\n",
              "                                <td>\r\n",
              "                                    <progress\r\n",
              "                                        max=\"100\"\r\n",
              "                                        value=\"0\"\r\n",
              "                                        style=\"width: 100%;\"\r\n",
              "                                    > \r\n",
              "                                    <td>\r\n",
              "                                    <p id=\"round-bff94fe8-6ade-4e8a-86e3-7cad721c8d27\"> \r\n",
              "                                    <script>\r\n",
              "                                    var num = 0;\r\n",
              "                                    num = num.toFixed(4);\r\n",
              "                                    var num_string = num + \"%\";\r\n",
              "                                     document.getElementById(\"round-bff94fe8-6ade-4e8a-86e3-7cad721c8d27\").innerHTML = num_string;\r\n",
              "                                    </script> </p>\r\n",
              "                                    </td>\r\n",
              "                                </td>\r\n",
              "                            \r\n",
              "                                \r\n",
              "                                <td style=\"transform: rotate(0deg);\r\n",
              "                   text-align: center;\">\r\n",
              "                                 ↑\r\n",
              "                                </td>\r\n",
              "                            \r\n",
              "                            </tr>\r\n",
              "                        \n",
              "\r\n",
              "                            <tr>\r\n",
              "                                <td>$\\left|3\\right\\rangle$</td>\r\n",
              "                                <td>$0.7071 + 0.0000 i$</td>\r\n",
              "                                \r\n",
              "                                <td>\r\n",
              "                                    <progress\r\n",
              "                                        max=\"100\"\r\n",
              "                                        value=\"50.000000000000014\"\r\n",
              "                                        style=\"width: 100%;\"\r\n",
              "                                    > \r\n",
              "                                    <td>\r\n",
              "                                    <p id=\"round-ff86caac-5c14-4c3a-bf64-c75eb695e22c\"> \r\n",
              "                                    <script>\r\n",
              "                                    var num = 50.000000000000014;\r\n",
              "                                    num = num.toFixed(4);\r\n",
              "                                    var num_string = num + \"%\";\r\n",
              "                                     document.getElementById(\"round-ff86caac-5c14-4c3a-bf64-c75eb695e22c\").innerHTML = num_string;\r\n",
              "                                    </script> </p>\r\n",
              "                                    </td>\r\n",
              "                                </td>\r\n",
              "                            \r\n",
              "                                \r\n",
              "                                <td style=\"transform: rotate(0deg);\r\n",
              "                   text-align: center;\">\r\n",
              "                                 ↑\r\n",
              "                                </td>\r\n",
              "                            \r\n",
              "                            </tr>\r\n",
              "                        \r\n",
              "                        </tbody>\r\n",
              "                    </table>"
            ],
            "application/x-qsharp-data": "{\"div_id\":\"dump-machine-div-dfe51a09-621b-446e-a32b-7d549f6cdbde\",\"qubit_ids\":[0,1],\"n_qubits\":2,\"amplitudes\":[{\"Real\":0.7071067811865476,\"Imaginary\":0.0,\"Magnitude\":0.7071067811865476,\"Phase\":0.0},{\"Real\":0.0,\"Imaginary\":0.0,\"Magnitude\":0.0,\"Phase\":0.0},{\"Real\":0.0,\"Imaginary\":0.0,\"Magnitude\":0.0,\"Phase\":0.0},{\"Real\":0.7071067811865476,\"Imaginary\":0.0,\"Magnitude\":0.7071067811865476,\"Phase\":0.0}]}"
          },
          "metadata": {}
        },
        {
          "output_type": "execute_result",
          "data": {
            "text/plain": [
              "()"
            ]
          },
          "metadata": {},
          "execution_count": 15
        }
      ],
      "metadata": {}
    },
    {
      "cell_type": "code",
      "execution_count": 14,
      "source": [
        "for _ in range(5):\r\n",
        "    DumpBellPair.simulate_noise()"
      ],
      "outputs": [
        {
          "output_type": "display_data",
          "data": {
            "text/plain": [
              "Microsoft.Quantum.Experimental.StabilizerState"
            ],
            "text/html": [
              "\r\n",
              "                    <table>\r\n",
              "                        <caption>Stabilizer state</caption>\r\n",
              "                        <tr>\r\n",
              "                            <th># of qubits</th>\r\n",
              "                            <td>2</td>\r\n",
              "                        </tr>\r\n",
              "\r\n",
              "                        <tr>\r\n",
              "                            <th>State data</th>\r\n",
              "                            <td>$$\\left\\langle XX, ZZ \\right\\rangle$$</td>\r\n",
              "                        </tr>\r\n",
              "                    </table>\r\n",
              "                "
            ],
            "application/x-qsharp-data": "{\"Table\":{\"SchemaVersion\":1,\"Dimensions\":[4,5],\"Data\":[false,false,true,false,false,false,true,false,false,false,true,true,false,false,false,false,false,true,true,false],\"AsArray\":[false,false,true,false,false,false,true,false,false,false,true,true,false,false,false,false,false,true,true,false]},\"Data\":[false,false,true,false,false,false,true,false,false,false,true,true,false,false,false,false,false,true,true,false],\"NQubits\":2}"
          },
          "metadata": {}
        },
        {
          "output_type": "display_data",
          "data": {
            "text/plain": [
              "Microsoft.Quantum.Experimental.StabilizerState"
            ],
            "text/html": [
              "\r\n",
              "                    <table>\r\n",
              "                        <caption>Stabilizer state</caption>\r\n",
              "                        <tr>\r\n",
              "                            <th># of qubits</th>\r\n",
              "                            <td>2</td>\r\n",
              "                        </tr>\r\n",
              "\r\n",
              "                        <tr>\r\n",
              "                            <th>State data</th>\r\n",
              "                            <td>$$\\left\\langle XX, ZZ \\right\\rangle$$</td>\r\n",
              "                        </tr>\r\n",
              "                    </table>\r\n",
              "                "
            ],
            "application/x-qsharp-data": "{\"Table\":{\"SchemaVersion\":1,\"Dimensions\":[4,5],\"Data\":[false,false,true,false,false,false,true,false,false,false,true,true,false,false,false,false,false,true,true,false],\"AsArray\":[false,false,true,false,false,false,true,false,false,false,true,true,false,false,false,false,false,true,true,false]},\"Data\":[false,false,true,false,false,false,true,false,false,false,true,true,false,false,false,false,false,true,true,false],\"NQubits\":2}"
          },
          "metadata": {}
        },
        {
          "output_type": "display_data",
          "data": {
            "text/plain": [
              "Microsoft.Quantum.Experimental.StabilizerState"
            ],
            "text/html": [
              "\r\n",
              "                    <table>\r\n",
              "                        <caption>Stabilizer state</caption>\r\n",
              "                        <tr>\r\n",
              "                            <th># of qubits</th>\r\n",
              "                            <td>2</td>\r\n",
              "                        </tr>\r\n",
              "\r\n",
              "                        <tr>\r\n",
              "                            <th>State data</th>\r\n",
              "                            <td>$$\\left\\langle XX, ZZ \\right\\rangle$$</td>\r\n",
              "                        </tr>\r\n",
              "                    </table>\r\n",
              "                "
            ],
            "application/x-qsharp-data": "{\"Table\":{\"SchemaVersion\":1,\"Dimensions\":[4,5],\"Data\":[false,false,true,false,false,false,true,false,false,false,true,true,false,false,false,false,false,true,true,false],\"AsArray\":[false,false,true,false,false,false,true,false,false,false,true,true,false,false,false,false,false,true,true,false]},\"Data\":[false,false,true,false,false,false,true,false,false,false,true,true,false,false,false,false,false,true,true,false],\"NQubits\":2}"
          },
          "metadata": {}
        },
        {
          "output_type": "display_data",
          "data": {
            "text/plain": [
              "Microsoft.Quantum.Experimental.StabilizerState"
            ],
            "text/html": [
              "\r\n",
              "                    <table>\r\n",
              "                        <caption>Stabilizer state</caption>\r\n",
              "                        <tr>\r\n",
              "                            <th># of qubits</th>\r\n",
              "                            <td>2</td>\r\n",
              "                        </tr>\r\n",
              "\r\n",
              "                        <tr>\r\n",
              "                            <th>State data</th>\r\n",
              "                            <td>$$\\left\\langle XX, ZZ \\right\\rangle$$</td>\r\n",
              "                        </tr>\r\n",
              "                    </table>\r\n",
              "                "
            ],
            "application/x-qsharp-data": "{\"Table\":{\"SchemaVersion\":1,\"Dimensions\":[4,5],\"Data\":[false,false,true,false,false,false,true,false,false,false,true,true,false,false,false,false,false,true,true,false],\"AsArray\":[false,false,true,false,false,false,true,false,false,false,true,true,false,false,false,false,false,true,true,false]},\"Data\":[false,false,true,false,false,false,true,false,false,false,true,true,false,false,false,false,false,true,true,false],\"NQubits\":2}"
          },
          "metadata": {}
        },
        {
          "output_type": "display_data",
          "data": {
            "text/plain": [
              "Microsoft.Quantum.Experimental.StabilizerState"
            ],
            "text/html": [
              "\r\n",
              "                    <table>\r\n",
              "                        <caption>Stabilizer state</caption>\r\n",
              "                        <tr>\r\n",
              "                            <th># of qubits</th>\r\n",
              "                            <td>2</td>\r\n",
              "                        </tr>\r\n",
              "\r\n",
              "                        <tr>\r\n",
              "                            <th>State data</th>\r\n",
              "                            <td>$$\\left\\langle XX, ZZ \\right\\rangle$$</td>\r\n",
              "                        </tr>\r\n",
              "                    </table>\r\n",
              "                "
            ],
            "application/x-qsharp-data": "{\"Table\":{\"SchemaVersion\":1,\"Dimensions\":[4,5],\"Data\":[false,false,true,false,false,false,true,false,false,false,true,true,false,false,false,false,false,true,true,false],\"AsArray\":[false,false,true,false,false,false,true,false,false,false,true,true,false,false,false,false,false,true,true,false]},\"Data\":[false,false,true,false,false,false,true,false,false,false,true,true,false,false,false,false,false,true,true,false],\"NQubits\":2}"
          },
          "metadata": {}
        }
      ],
      "metadata": {}
    }
  ],
  "metadata": {
    "kernelspec": {
      "name": "python3",
      "language": "python",
      "display_name": "Python 3"
    },
    "language_info": {
      "name": "python",
      "version": "3.7.10",
      "mimetype": "text/x-python",
      "codemirror_mode": {
        "name": "ipython",
        "version": 3
      },
      "pygments_lexer": "ipython3",
      "nbconvert_exporter": "python",
      "file_extension": ".py"
    },
    "kernel_info": {
      "name": "python3"
    },
    "nteract": {
      "version": "nteract-front-end@1.0.0"
    }
  },
  "nbformat": 4,
  "nbformat_minor": 5
}