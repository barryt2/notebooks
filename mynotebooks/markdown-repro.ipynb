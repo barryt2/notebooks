{
  "cells": [
    {
      "cell_type": "markdown",
      "source": [
        "This works: $$ H = \\Large\\sum_{i} w_{i}x_{i} + \\sum_{i,j} w_{i,j}x_{i}x_{j} $$\r\n",
        "\r\n",
        "MathJax doesn't work, if it's wrapped in HTML:\r\n",
        "<ol>\r\n",
        "    <li>$$  H = \\Large\\sum_{i} w_{i}x_{i} + \\sum_{i,j} w_{i,j}x_{i}x_{j} $$</li>\r\n",
        "</ol>\r\n",
        "</br>\r\n",
        "\r\n",
        "HTML + MathJax both don't work if it's tabbed (treats as quote):\r\n",
        "    <ol>\r\n",
        "        <li>$$  H = \\Large\\sum_{i} w_{i}x_{i} + \\sum_{i,j} w_{i,j}x_{i}x_{j} $$</li>\r\n",
        "    </ol>"
      ],
      "metadata": {
        "nteract": {
          "transient": {
            "deleting": false
          }
        }
      }
    }
  ],
  "metadata": {
    "language_info": {
      "name": "python",
      "version": "3.7.12",
      "mimetype": "text/x-python",
      "codemirror_mode": {
        "name": "ipython",
        "version": 3
      },
      "pygments_lexer": "ipython3",
      "nbconvert_exporter": "python",
      "file_extension": ".py"
    },
    "kernelspec": {
      "name": "python3",
      "language": "python",
      "display_name": "Python 3 (ipykernel)"
    },
    "kernel_info": {
      "name": "python3"
    },
    "nteract": {
      "version": "nteract-front-end@1.0.0"
    }
  },
  "nbformat": 4,
  "nbformat_minor": 0
}