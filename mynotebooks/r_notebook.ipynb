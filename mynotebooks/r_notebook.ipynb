{
    "cells": [
        {
            "cell_type": "code",
            "source": [
                "library(azuremlsdk)\n",
                "ws <- load_workspace_from_config()\n",
                "\n",
                "# Define estimator\n",
                "est <- estimator(source_directory = \"Users/blah/train-on-local\",\n",
                "                 entry_script = \"train.R\",\n",
                "                 compute_target = \"local\")\n",
                "\n",
                "# Initialize experiment\n",
                "experiment_name <- \"train-r-script-on-local\"\n",
                "exp <- experiment(ws, experiment_name)\n",
                "\n",
                "# Submit job and display the run details\n",
                "run <- submit_experiment(exp, est)\n",
                "view_run_details(run)\n",
                "wait_for_run_completion(run, show_output = TRUE)\n",
                "\n",
                "# Get the run metrics\n",
                "metrics <- get_run_metrics(run)\n",
                "metrics\n"
            ],
            "outputs": [],
            "execution_count": 18,
            "metadata": {}
        },
        {
            "cell_type": "code",
            "source": [],
            "outputs": [],
            "execution_count": null,
            "metadata": {
                "collapsed": false,
                "jupyter": {
                    "source_hidden": false,
                    "outputs_hidden": false
                },
                "nteract": {
                    "transient": {
                        "deleting": false
                    }
                }
            }
        }
    ],
    "metadata": {
        "kernel_info": {
            "name": "ir"
        },
        "kernelspec": {
            "name": "ir",
            "language": "R",
            "display_name": "R"
        },
        "language_info": {
            "name": "R",
            "codemirror_mode": "r",
            "pygments_lexer": "r",
            "mimetype": "text/x-r-source",
            "file_extension": ".r",
            "version": "3.6.3"
        },
        "nteract": {
            "version": "nteract-front-end@1.0.0"
        }
    },
    "nbformat": 4,
    "nbformat_minor": 2
}