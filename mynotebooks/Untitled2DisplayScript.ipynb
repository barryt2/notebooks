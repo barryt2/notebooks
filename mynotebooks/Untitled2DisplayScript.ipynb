{
  "cells": [
    {
      "cell_type": "code",
      "source": [
        "from IPython.display import display, HTML\r\n",
        "HTML(\"\"\"\r\n",
        "<!DOCTYPE html>\r\n",
        " <meta charset=\"utf-8\">\r\n",
        " <style>\r\n",
        " path {\r\n",
        " fill: white;\r\n",
        " stroke: #000;\r\n",
        " }\r\n",
        " circle {\r\n",
        " fill: #fff;\r\n",
        " stroke: #000;\r\n",
        " pointer-events: none;\r\n",
        " }\r\n",
        " .PiYG .q0-9{fill:rgb${colors(0)}}\r\n",
        " .PiYG .q1-9{fill:rgb${colors(1)}}\r\n",
        " .PiYG .q2-9{fill:rgb${colors(2)}}\r\n",
        " .PiYG .q3-9{fill:rgb${colors(3)}}\r\n",
        " .PiYG .q4-9{fill:rgb${colors(4)}}\r\n",
        " .PiYG .q5-9{fill:rgb${colors(5)}}\r\n",
        " .PiYG .q6-9{fill:rgb${colors(6)}}\r\n",
        " .PiYG .q7-9{fill:rgb${colors(7)}}\r\n",
        " .PiYG .q8-9{fill:rgb${colors(8)}}\r\n",
        " </style>\r\n",
        " <body>\r\n",
        " <script src=\"https://d3js.org/d3.v3.min.js\"></script>\r\n",
        " <script>\r\n",
        " debugger;\r\n",
        " var width = 960,\r\n",
        " height = 500;\r\n",
        " var vertices = d3.range(100).map(function(d) {\r\n",
        " return [Math.random() * width, Math.random() * height];\r\n",
        " });\r\n",
        " var svg = d3.select(\"body\").append(\"svg\")\r\n",
        " .attr(\"width\", width)\r\n",
        " .attr(\"height\", height)\r\n",
        " .attr(\"class\", \"PiYG\")\r\n",
        " .on(\"mousemove\", function() { vertices[0] = d3.mouse(this); redraw(); });\r\n",
        " var path = svg.append(\"g\").selectAll(\"path\");\r\n",
        " svg.selectAll(\"circle\")\r\n",
        " .data(vertices.slice(1))\r\n",
        " .enter().append(\"circle\")\r\n",
        " .attr(\"transform\", function(d) { return \"translate(\" + d + \")\"; })\r\n",
        " .attr(\"r\", 2);\r\n",
        " redraw();\r\n",
        " function redraw() {\r\n",
        " path = path.data(d3.geom.delaunay(vertices).map(function(d) { return \"M\" + d.join(\"L\") + \"Z\"; }), String);\r\n",
        " path.exit().remove();\r\n",
        " path.enter().append(\"path\").attr(\"class\", function(d, i) { return \"q\" + (i % 9) + \"-9\"; }).attr(\"d\", String);\r\n",
        " }\r\n",
        " </script>\r\n",
        "\"\"\")"
      ],
      "outputs": [
        {
          "output_type": "execute_result",
          "execution_count": 8,
          "data": {
            "text/plain": "<IPython.core.display.HTML object>",
            "text/html": "\n<!DOCTYPE html>\n <meta charset=\"utf-8\">\n <style>\n path {\n fill: white;\n stroke: #000;\n }\n circle {\n fill: #fff;\n stroke: #000;\n pointer-events: none;\n }\n .PiYG .q0-9{fill:rgb${colors(0)}}\n .PiYG .q1-9{fill:rgb${colors(1)}}\n .PiYG .q2-9{fill:rgb${colors(2)}}\n .PiYG .q3-9{fill:rgb${colors(3)}}\n .PiYG .q4-9{fill:rgb${colors(4)}}\n .PiYG .q5-9{fill:rgb${colors(5)}}\n .PiYG .q6-9{fill:rgb${colors(6)}}\n .PiYG .q7-9{fill:rgb${colors(7)}}\n .PiYG .q8-9{fill:rgb${colors(8)}}\n </style>\n <body>\n <script src=\"https://d3js.org/d3.v3.min.js\"></script>\n <script>\n debugger;\n var width = 960,\n height = 500;\n var vertices = d3.range(100).map(function(d) {\n return [Math.random() * width, Math.random() * height];\n });\n var svg = d3.select(\"body\").append(\"svg\")\n .attr(\"width\", width)\n .attr(\"height\", height)\n .attr(\"class\", \"PiYG\")\n .on(\"mousemove\", function() { vertices[0] = d3.mouse(this); redraw(); });\n var path = svg.append(\"g\").selectAll(\"path\");\n svg.selectAll(\"circle\")\n .data(vertices.slice(1))\n .enter().append(\"circle\")\n .attr(\"transform\", function(d) { return \"translate(\" + d + \")\"; })\n .attr(\"r\", 2);\n redraw();\n function redraw() {\n path = path.data(d3.geom.delaunay(vertices).map(function(d) { return \"M\" + d.join(\"L\") + \"Z\"; }), String);\n path.exit().remove();\n path.enter().append(\"path\").attr(\"class\", function(d, i) { return \"q\" + (i % 9) + \"-9\"; }).attr(\"d\", String);\n }\n </script>\n"
          },
          "metadata": {}
        }
      ],
      "execution_count": 8,
      "metadata": {
        "gather": {
          "logged": 1627975349756
        }
      }
    },
    {
      "cell_type": "code",
      "source": [
        "data_path = spark.read.load('abfss://chaxufswcus@chaxustoragewcus.dfs.core.windows.net/userdata1.parquet', format='parquet')\r\n"
      ],
      "outputs": [
        {
          "output_type": "stream",
          "name": "stdout",
          "text": [
            "Collecting seaborn\n",
            "  Downloading seaborn-0.11.1-py3-none-any.whl (285 kB)\n",
            "\u001b[K     |████████████████████████████████| 285 kB 23.2 MB/s eta 0:00:01\n",
            "\u001b[?25hRequirement already satisfied: scipy>=1.0 in /anaconda/envs/azureml_py36/lib/python3.6/site-packages (from seaborn) (1.4.1)\n",
            "Requirement already satisfied: pandas>=0.23 in /anaconda/envs/azureml_py36/lib/python3.6/site-packages (from seaborn) (0.25.3)\n",
            "Requirement already satisfied: numpy>=1.15 in /anaconda/envs/azureml_py36/lib/python3.6/site-packages (from seaborn) (1.18.5)\n",
            "Requirement already satisfied: matplotlib>=2.2 in /anaconda/envs/azureml_py36/lib/python3.6/site-packages (from seaborn) (3.2.1)\n",
            "Requirement already satisfied: python-dateutil>=2.6.1 in /anaconda/envs/azureml_py36/lib/python3.6/site-packages (from pandas>=0.23->seaborn) (2.8.1)\n",
            "Requirement already satisfied: pytz>=2017.2 in /anaconda/envs/azureml_py36/lib/python3.6/site-packages (from pandas>=0.23->seaborn) (2020.1)\n",
            "Requirement already satisfied: kiwisolver>=1.0.1 in /anaconda/envs/azureml_py36/lib/python3.6/site-packages (from matplotlib>=2.2->seaborn) (1.2.0)\n",
            "Requirement already satisfied: cycler>=0.10 in /anaconda/envs/azureml_py36/lib/python3.6/site-packages (from matplotlib>=2.2->seaborn) (0.10.0)\n",
            "Requirement already satisfied: pyparsing!=2.0.4,!=2.1.2,!=2.1.6,>=2.0.1 in /anaconda/envs/azureml_py36/lib/python3.6/site-packages (from matplotlib>=2.2->seaborn) (2.4.7)\n",
            "Requirement already satisfied: six>=1.5 in /anaconda/envs/azureml_py36/lib/python3.6/site-packages (from python-dateutil>=2.6.1->pandas>=0.23->seaborn) (1.15.0)\n",
            "Installing collected packages: seaborn\n",
            "Successfully installed seaborn-0.11.1\n",
            "Note: you may need to restart the kernel to use updated packages.\n"
          ]
        }
      ],
      "execution_count": 2,
      "metadata": {
        "collapsed": true,
        "jupyter": {
          "source_hidden": false,
          "outputs_hidden": false
        },
        "nteract": {
          "transient": {
            "deleting": false
          }
        },
        "gather": {
          "logged": 1627383014842
        }
      }
    }
  ],
  "metadata": {
    "kernelspec": {
      "name": "python3-azureml",
      "language": "python",
      "display_name": "Python 3.6 - AzureML"
    },
    "language_info": {
      "name": "python",
      "version": "3.6.9",
      "mimetype": "text/x-python",
      "codemirror_mode": {
        "name": "ipython",
        "version": 3
      },
      "pygments_lexer": "ipython3",
      "nbconvert_exporter": "python",
      "file_extension": ".py"
    },
    "kernel_info": {
      "name": "python3-azureml"
    },
    "nteract": {
      "version": "nteract-front-end@1.0.0"
    },
    "microsoft": {
      "host": {
        "AzureML": {
          "notebookHasBeenCompleted": true
        }
      }
    }
  },
  "nbformat": 4,
  "nbformat_minor": 2
}