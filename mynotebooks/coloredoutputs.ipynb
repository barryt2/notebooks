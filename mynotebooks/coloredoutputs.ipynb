{
  "cells": [
    {
      "cell_type": "code",
      "source": [
        "%colors linux"
      ],
      "outputs": [
        {
          "output_type": "display_data",
          "data": {
            "application/vnd.livy.statement-meta+json": {
              "spark_pool": "zhengC",
              "session_id": 13,
              "statement_id": 1,
              "state": "finished",
              "livy_statement_state": "available",
              "queued_time": "2022-02-17T02:41:48.7609661Z",
              "session_start_time": "2022-02-17T02:41:48.7928657Z",
              "execution_start_time": "2022-02-17T02:46:08.243374Z",
              "execution_finish_time": "2022-02-17T02:46:08.7229029Z"
            },
            "text/plain": "StatementMeta(zhengC, 13, 1, Finished, Available)"
          },
          "metadata": {}
        }
      ],
      "execution_count": 1,
      "metadata": {
        "jupyter": {
          "source_hidden": false,
          "outputs_hidden": false
        },
        "nteract": {
          "transient": {
            "deleting": false
          }
        }
      }
    },
    {
      "cell_type": "code",
      "source": [
        "%page?"
      ],
      "outputs": [
        {
          "output_type": "display_data",
          "data": {
            "application/vnd.livy.statement-meta+json": {
              "spark_pool": "zhengC",
              "session_id": 13,
              "statement_id": 2,
              "state": "finished",
              "livy_statement_state": "available",
              "queued_time": "2022-02-17T02:46:15.3083497Z",
              "session_start_time": null,
              "execution_start_time": "2022-02-17T02:46:15.7361337Z",
              "execution_finish_time": "2022-02-17T02:46:16.2486629Z"
            },
            "text/plain": "StatementMeta(zhengC, 13, 2, Finished, Available)"
          },
          "metadata": {}
        },
        {
          "output_type": "display_data",
          "data": {
            "text/plain": "\u001b[1;31mDocstring:\u001b[0m\nPretty print the object and display it through a pager.\n\n%page [options] OBJECT\n\nIf no object is given, use _ (last output).\n\nOptions:\n\n  -r: page str(object), don't pretty-print it.\n\u001b[1;31mFile:\u001b[0m      ~/cluster-env/env/lib/python3.8/site-packages/IPython/core/magics/basic.py\n"
          },
          "metadata": {}
        }
      ],
      "execution_count": 2,
      "metadata": {
        "jupyter": {
          "source_hidden": false,
          "outputs_hidden": false
        },
        "nteract": {
          "transient": {
            "deleting": false
          }
        }
      }
    }
  ],
  "metadata": {
    "kernelspec": {
      "name": "synapse_pyspark",
      "language": "Python",
      "display_name": "Synapse PySpark"
    },
    "language_info": {
      "name": "python"
    },
    "kernel_info": {
      "name": "synapse_pyspark"
    },
    "description": null,
    "save_output": true,
    "synapse_widget": {
      "version": "0.1",
      "state": {}
    }
  },
  "nbformat": 4,
  "nbformat_minor": 2
}