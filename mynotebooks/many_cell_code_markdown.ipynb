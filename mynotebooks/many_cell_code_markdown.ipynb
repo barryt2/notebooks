{
 "cells": [
  {
   "cell_type": "markdown",
   "execution_count": null,
   "metadata": {},
   "outputs": [],
   "source": [
    "# Hello World"
   ]
  },
  {
   "cell_type": "code",
   "execution_count": 1,
   "metadata": {},
   "outputs": [
    {
     "name": "stdout",
     "output_type": "stream",
     "text": "1\n2\n"
    }
   ],
   "source": [
    "def customfunc(a, b):\n",
    "    ''' my custom function '''\n",
    "    print(a)\n",
    "    print(b)\n",
    "\n",
    "customfunc(1, 2)\n",
    "message = \"hello\""
   ]
  },
  {
   "cell_type": "code",
   "execution_count": 2,
   "metadata": {},
   "outputs": [
    {
     "name": "stdout",
     "output_type": "stream",
     "text": "4\n5\n6\n"
    }
   ],
   "source": [
    "mylist = [4, 5, 6]\n",
    "for x in mylist:\n",
    "    print(x)"
   ]
  },
  {
   "cell_type": "code",
   "execution_count": 3,
   "metadata": {},
   "outputs": [],
   "source": [
    "max_count = 10\n",
    "index = 0\n",
    "sum_number = 0\n",
    "while (index < max_count):\n",
    "    sum_number = sum_number + index\n",
    "    index = index + 1"
   ]
  },
  {
   "cell_type": "code",
   "execution_count": 4,
   "metadata": {},
   "outputs": [
    {
     "name": "stdout",
     "output_type": "stream",
     "text": "1\n2\n"
    }
   ],
   "source": [
    "def customfunc2(a, b):\n",
    "    ''' my custom function '''\n",
    "    print(a)\n",
    "    print(b)\n",
    "\n",
    "customfunc2(1, 2)\n",
    "message2 = \"hello\""
   ]
  },
  {
   "cell_type": "code",
   "execution_count": 5,
   "metadata": {},
   "outputs": [
    {
     "name": "stdout",
     "output_type": "stream",
     "text": "4\n5\n6\n"
    }
   ],
   "source": [
    "mylist2 = [4, 5, 6]\n",
    "for x in mylist2:\n",
    "    print(x)"
   ]
  },
  {
   "cell_type": "code",
   "execution_count": 6,
   "metadata": {},
   "outputs": [],
   "source": [
    "max_count2 = 10\n",
    "index2 = 0\n",
    "sum_number2 = 0\n",
    "while (index2 < max_count2):\n",
    "    sum_number2 = sum_number2 + index2\n",
    "    index2 = index2 + 1"
   ]
  },
  {
   "cell_type": "code",
   "execution_count": 7,
   "metadata": {},
   "outputs": [
    {
     "name": "stdout",
     "output_type": "stream",
     "text": "1\n2\n"
    }
   ],
   "source": [
    "def customfunc3(a, b):\n",
    "    ''' my custom function '''\n",
    "    print(a)\n",
    "    print(b)\n",
    "\n",
    "customfunc3(1, 2)\n",
    "message3 = \"hello\""
   ]
  },
  {
   "cell_type": "code",
   "execution_count": 8,
   "metadata": {},
   "outputs": [
    {
     "name": "stdout",
     "output_type": "stream",
     "text": "4\n5\n6\n"
    }
   ],
   "source": [
    "mylist3 = [4, 5, 6]\n",
    "for x in mylist3:\n",
    "    print(x)"
   ]
  },
  {
   "cell_type": "code",
   "execution_count": 9,
   "metadata": {},
   "outputs": [],
   "source": [
    "max_count3 = 10\n",
    "index3 = 0\n",
    "sum_number3 = 0\n",
    "while (index3 < max_count3):\n",
    "    sum_number3 = sum_number3 + index3\n",
    "    index3 = index3 + 1"
   ]
  }
 ],
 "metadata": {
  "kernelspec": {
   "display_name": "Python 3",
   "language": "python",
   "name": "python3"
  },
  "language_info": {
   "codemirror_mode": {
    "name": "ipython",
    "version": 3
   },
   "file_extension": ".py",
   "mimetype": "text/x-python",
   "name": "python",
   "nbconvert_exporter": "python",
   "pygments_lexer": "ipython3",
   "version": "3.7.4-final"
  }
 },
 "nbformat": 4,
 "nbformat_minor": 2
}